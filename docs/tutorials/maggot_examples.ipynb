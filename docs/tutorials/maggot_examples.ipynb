{
 "cells": [
  {
   "attachments": {},
   "cell_type": "markdown",
   "id": "090ced31",
   "metadata": {
    "lines_to_next_cell": 0
   },
   "source": [
    "# Manipulating data with an AdjacencyFrame\n",
    "Examples from a maggot brain connectome dataset.\n",
    "\n",
    "```{note}\n",
    "Eventually this will be using neuropull itself to grab the data, instead of\n",
    "pulling from my computer.\n",
    "```"
   ]
  },
  {
   "attachments": {},
   "cell_type": "markdown",
   "id": "1a705b0b",
   "metadata": {
    "lines_to_next_cell": 0
   },
   "source": [
    "## Load the data\n"
   ]
  },
  {
   "cell_type": "code",
   "execution_count": 1,
   "id": "da4419d2",
   "metadata": {},
   "outputs": [],
   "source": [
    "from pathlib import Path\n",
    "\n",
    "import networkx as nx\n",
    "import numpy as np\n",
    "import pandas as pd\n",
    "\n",
    "data_path = Path(\"neuropull/processing/raw_data/maggot/2022-09-25\")\n",
    "\n",
    "g = nx.read_edgelist(\n",
    "    data_path / \"G_edgelist.txt\",\n",
    "    delimiter=\" \",\n",
    "    data=[(\"weight\", float)],\n",
    "    create_using=nx.DiGraph,\n",
    "    nodetype=int,\n",
    ")\n",
    "nodes = pd.read_csv(data_path / \"meta_data.csv\", index_col=0)\n",
    "nodes = nodes[nodes.index.isin(g.nodes)]\n",
    "adj = nx.to_pandas_adjacency(g, nodelist=nodes.index)"
   ]
  },
  {
   "cell_type": "markdown",
   "id": "77f3c3a5",
   "metadata": {
    "lines_to_next_cell": 0
   },
   "source": [
    "## Load the data into an adjacency frame\n",
    "To load the data as an adjacency frame, we simply need to specify the adjacency matrix\n",
    "(as a pandas DataFrame) and the node data (as a pandas DataFrame). Note that the\n",
    "data is not copied by default, so if you modify the underlying data, this would be\n",
    "reflected in the adjacency frame."
   ]
  },
  {
   "cell_type": "code",
   "execution_count": 2,
   "id": "1e4c881d",
   "metadata": {},
   "outputs": [
    {
     "data": {
      "text/plain": [
       "AdjacencyFrame with shape: (3549, 3549)\n",
       "Source node features: 58\n",
       "Target node features: 58"
      ]
     },
     "execution_count": 2,
     "metadata": {},
     "output_type": "execute_result"
    }
   ],
   "source": [
    "\n",
    "from neuropull.graph import AdjacencyFrame\n",
    "\n",
    "af = AdjacencyFrame(adj.copy(), nodes.copy(), nodes.copy())\n",
    "af"
   ]
  },
  {
   "cell_type": "markdown",
   "id": "9fbcb817",
   "metadata": {},
   "source": [
    "Let's look at what this frame consists of. First is the adjacency matrix itself"
   ]
  },
  {
   "cell_type": "code",
   "execution_count": 3,
   "id": "788b0830",
   "metadata": {},
   "outputs": [
    {
     "data": {
      "text/plain": [
       "array([[0., 0., 0., ..., 0., 0., 0.],\n",
       "       [0., 0., 0., ..., 0., 0., 0.],\n",
       "       [0., 0., 0., ..., 0., 0., 0.],\n",
       "       ...,\n",
       "       [0., 0., 0., ..., 0., 0., 0.],\n",
       "       [0., 0., 0., ..., 0., 0., 0.],\n",
       "       [0., 0., 0., ..., 0., 0., 0.]])"
      ]
     },
     "execution_count": 3,
     "metadata": {},
     "output_type": "execute_result"
    }
   ],
   "source": [
    "af.data"
   ]
  },
  {
   "cell_type": "markdown",
   "id": "950a5486",
   "metadata": {
    "lines_to_next_cell": 0
   },
   "source": [
    "This adjacency matrix is always indexed the same way as the node data. We can look\n",
    "at this index (for the rows) with the `index` attribute."
   ]
  },
  {
   "cell_type": "code",
   "execution_count": 4,
   "id": "f4c9d3ba",
   "metadata": {},
   "outputs": [
    {
     "data": {
      "text/plain": [
       "Int64Index([ 7766016,  7790597, 18833414, 15564807, 17383431,  7782409,\n",
       "            14434314, 15458316, 11018254, 11714576,\n",
       "            ...\n",
       "             8142831, 12787696, 15589362, 11067379,  2637812,  3882998,\n",
       "            15638520, 19111930, 15679484, 16629757],\n",
       "           dtype='int64', length=3549)"
      ]
     },
     "execution_count": 4,
     "metadata": {},
     "output_type": "execute_result"
    }
   ],
   "source": [
    "af.index"
   ]
  },
  {
   "cell_type": "markdown",
   "id": "dbca2375",
   "metadata": {
    "lines_to_next_cell": 0
   },
   "source": [
    "And similarly for the columns via the `columns` attribute."
   ]
  },
  {
   "cell_type": "code",
   "execution_count": 5,
   "id": "99fd5dbb",
   "metadata": {},
   "outputs": [
    {
     "data": {
      "text/plain": [
       "Int64Index([ 7766016,  7790597, 18833414, 15564807, 17383431,  7782409,\n",
       "            14434314, 15458316, 11018254, 11714576,\n",
       "            ...\n",
       "             8142831, 12787696, 15589362, 11067379,  2637812,  3882998,\n",
       "            15638520, 19111930, 15679484, 16629757],\n",
       "           dtype='int64', length=3549)"
      ]
     },
     "execution_count": 5,
     "metadata": {},
     "output_type": "execute_result"
    }
   ],
   "source": [
    "af.columns"
   ]
  },
  {
   "cell_type": "markdown",
   "id": "4fa3c779",
   "metadata": {},
   "source": [
    "Note that here these are the same, but be aware that this need not be the case."
   ]
  },
  {
   "cell_type": "markdown",
   "id": "dee2a66f",
   "metadata": {},
   "source": [
    "The other components of the data are the node metadata (again, by default,\n",
    "potentially different for rows and columns). This is stored in row_objects and col_objects."
   ]
  },
  {
   "cell_type": "code",
   "execution_count": 6,
   "id": "0db0b9f6",
   "metadata": {},
   "outputs": [
    {
     "name": "stdout",
     "output_type": "stream",
     "text": [
      "                                                       name  neurons  \\\n",
      "7766016                                       H-shaped _a1l    False   \n",
      "7790597                                          vchA/B a1l    False   \n",
      "18833414                                 MN-R-Sens-B2-VM-23    False   \n",
      "15564807                                AN-R-Sens-B1-AVa-22    False   \n",
      "17383431                   BAlp_ant ascending dendrite left     True   \n",
      "...                                                     ...      ...   \n",
      "3882998   CP contra to SEZ left; MB1: incomplete neuron ...     True   \n",
      "15638520                                 MN-R-Sens-B3-VM-06    False   \n",
      "19111930                               MN13 ISN MN-VL2_a1l     False   \n",
      "15679484                                 MN-L-Sens-B2-VM-08    False   \n",
      "16629757                                         KC no pair     True   \n",
      "\n",
      "          paper_clustered_neurons   left  right  center   sink  \\\n",
      "7766016                      True   True  False   False  False   \n",
      "7790597                     False   True  False   False  False   \n",
      "18833414                     True  False   True   False  False   \n",
      "15564807                     True  False   True   False  False   \n",
      "17383431                     True   True  False   False  False   \n",
      "...                           ...    ...    ...     ...    ...   \n",
      "3882998                      True   True  False   False  False   \n",
      "15638520                     True  False   True   False  False   \n",
      "19111930                    False   True  False   False  False   \n",
      "15679484                     True   True  False   False  False   \n",
      "16629757                     True   True  False   False  False   \n",
      "\n",
      "          partially_differentiated  unsplittable  ipsilateral_axon  ...  \\\n",
      "7766016                      False         False             False  ...   \n",
      "7790597                      False         False             False  ...   \n",
      "18833414                     False         False             False  ...   \n",
      "15564807                     False         False              True  ...   \n",
      "17383431                     False         False              True  ...   \n",
      "...                            ...           ...               ...  ...   \n",
      "3882998                      False         False             False  ...   \n",
      "15638520                     False         False              True  ...   \n",
      "19111930                     False         False             False  ...   \n",
      "15679484                     False         False              True  ...   \n",
      "16629757                     False         False              True  ...   \n",
      "\n",
      "          n_simple_groups    color  hemisphere      pair  pair_id     lineage  \\\n",
      "7766016                 1  #A0DDF2           L  10937355     1473         unk   \n",
      "7790597                 0  #ACAAC8           L   7746883     1240         unk   \n",
      "18833414                1  #00753F           R  15699715     1535         unk   \n",
      "15564807                1  #00753F           R   1414206     1628         unk   \n",
      "17383431                1  #E0B1AD           L   9532295      962  BAlp_ant_l   \n",
      "...                   ...      ...         ...       ...      ...         ...   \n",
      "3882998                 1  #D88052           L  11261332     1149       CPe_l   \n",
      "15638520                1  #00753F           R  15724520     1550         unk   \n",
      "19111930                0  #ACAAC8           L  14194703     1361         unk   \n",
      "15679484                1  #00753F           L  15610387     1525         unk   \n",
      "16629757                1  #E55560           L        -1       -1     MBNB A    \n",
      "\n",
      "          axon_output  axon_input  dendrite_output  dendrite_input  \n",
      "7766016         402.0        73.0             27.0           200.0  \n",
      "7790597         283.0        17.0              0.0             0.0  \n",
      "18833414        315.0        40.0              0.0             0.0  \n",
      "15564807        117.0        14.0              0.0             0.0  \n",
      "17383431        147.0        11.0             48.0            47.0  \n",
      "...               ...         ...              ...             ...  \n",
      "3882998         104.0         7.0              1.0            21.0  \n",
      "15638520        155.0        24.0              0.0             0.0  \n",
      "19111930          0.0         0.0              0.0           194.0  \n",
      "15679484        116.0         5.0              0.0             0.0  \n",
      "16629757        199.0        76.0             34.0            67.0  \n",
      "\n",
      "[3549 rows x 58 columns]\n"
     ]
    }
   ],
   "source": [
    "print(af.row_objects)"
   ]
  },
  {
   "cell_type": "markdown",
   "id": "3746efe8",
   "metadata": {
    "lines_to_next_cell": 0
   },
   "source": [
    "## Sorting"
   ]
  },
  {
   "cell_type": "markdown",
   "id": "5b9c072d",
   "metadata": {},
   "source": [
    "We can sort the adjacency matrix and metadata according to some attributes. For example,\n",
    "alphabetically by name:"
   ]
  },
  {
   "cell_type": "code",
   "execution_count": 7,
   "id": "4b536e98",
   "metadata": {},
   "outputs": [
    {
     "name": "stdout",
     "output_type": "stream",
     "text": [
      "                                          name  neurons  \\\n",
      "7753261          (dda E3 or dda A)_a1l_JMpair2    False   \n",
      "3486867   130729_SFO Cand 42a-42b_OSN_IN1 left     True   \n",
      "5478818  130729_SFO Cand 42a-42b_OSN_IN1 right     True   \n",
      "7527710                           13a ORN left    False   \n",
      "4073353                          13a ORN right    False   \n",
      "\n",
      "         paper_clustered_neurons   left  right  \n",
      "7753261                    False   True  False  \n",
      "3486867                     True   True  False  \n",
      "5478818                     True  False   True  \n",
      "7527710                     True   True  False  \n",
      "4073353                     True  False   True  \n"
     ]
    }
   ],
   "source": [
    "sorted_af = af.sort_values(\"name\", axis=\"both\")\n",
    "print(sorted_af.row_objects.head().iloc[:, :5])"
   ]
  },
  {
   "cell_type": "markdown",
   "id": "93e47e3b",
   "metadata": {},
   "source": [
    "... or by the amount of incoming synapses onto the dendrite:"
   ]
  },
  {
   "cell_type": "code",
   "execution_count": 8,
   "id": "d10dd633",
   "metadata": {},
   "outputs": [
    {
     "name": "stdout",
     "output_type": "stream",
     "text": [
      "                    name  dendrite_input\n",
      "8980589      MBE18 right          1481.0\n",
      "16223537      MBE18 left          1282.0\n",
      "8198238   broad T2 right          1201.0\n",
      "5030808    keystone left          1129.0\n",
      "6557581   broad T3 right          1127.0\n"
     ]
    }
   ],
   "source": [
    "sorted_af = af.sort_values(\"dendrite_input\", axis=\"both\", ascending=False)\n",
    "print(sorted_af.row_objects.head()[[\"name\", \"dendrite_input\"]])"
   ]
  },
  {
   "cell_type": "markdown",
   "id": "ed9544d6",
   "metadata": {},
   "source": [
    "In any case, the adjacency matrix is always sorted the same way as the metadata."
   ]
  },
  {
   "cell_type": "code",
   "execution_count": 9,
   "id": "1ad2cc78",
   "metadata": {},
   "outputs": [
    {
     "name": "stderr",
     "output_type": "stream",
     "text": [
      "/Users/bpedigo/JHU_code/neuropull/neuropull/.venv/lib/python3.9/site-packages/tqdm/auto.py:22: TqdmWarning: IProgress not found. Please update jupyter and ipywidgets. See https://ipywidgets.readthedocs.io/en/stable/user_install.html\n",
      "  from .autonotebook import tqdm as notebook_tqdm\n"
     ]
    }
   ],
   "source": [
    "from graspologic.plot import adjplot\n",
    "\n",
    "# adjplot(af.data, plot_type=\"scattermap\", sizes=(1, 1))\n",
    "# adjplot(sorted_af.data, plot_type=\"scattermap\", sizes=(1, 1))\n"
   ]
  },
  {
   "cell_type": "markdown",
   "id": "7592f9af",
   "metadata": {
    "lines_to_next_cell": 0
   },
   "source": [
    "## Filtering and subsetting"
   ]
  },
  {
   "cell_type": "markdown",
   "id": "e314e622",
   "metadata": {
    "lines_to_next_cell": 0
   },
   "source": [
    "We can filter the adjacency matrix and metadata according to some attributes.\n",
    "For example, we could select only the nodes in the left hemisphere."
   ]
  },
  {
   "cell_type": "code",
   "execution_count": 10,
   "id": "2ea64a1b",
   "metadata": {},
   "outputs": [
    {
     "name": "stdout",
     "output_type": "stream",
     "text": [
      "AdjacencyFrame with shape: (1772, 1772)\n",
      "Source node features: 58\n",
      "Target node features: 58\n",
      "\n"
     ]
    }
   ],
   "source": [
    "query_af = af.query(\"hemisphere == 'L'\", axis=\"both\")\n",
    "print(query_af)"
   ]
  },
  {
   "cell_type": "markdown",
   "id": "b2d64eec",
   "metadata": {},
   "source": [
    "Note that since the adjacency frame is just a thin wrapper around pandas DataFrames,\n",
    "we can use all the usual pandas methods to filter the data. For example, we can select\n",
    "only the nodes that are in the left hemisphere and have a dendrite input greater than\n",
    "some threshold."
   ]
  },
  {
   "cell_type": "code",
   "execution_count": 11,
   "id": "19196b1d",
   "metadata": {},
   "outputs": [
    {
     "name": "stdout",
     "output_type": "stream",
     "text": [
      "AdjacencyFrame with shape: (608, 608)\n",
      "Source node features: 58\n",
      "Target node features: 58\n",
      "\n"
     ]
    }
   ],
   "source": [
    "query_af = af.query(\"hemisphere == 'L' and dendrite_input > 100\", axis=\"both\")\n",
    "print(query_af)"
   ]
  },
  {
   "cell_type": "markdown",
   "id": "26dd77bb",
   "metadata": {},
   "source": [
    "We can also select a non-induced subgraph: that is, a set of edges that go from one\n",
    "set of nodes to a potentially different set of target nodes. Here, we select the\n",
    "connections from the left hemisphere to the right hemisphere."
   ]
  },
  {
   "cell_type": "code",
   "execution_count": 12,
   "id": "ecd4f487",
   "metadata": {},
   "outputs": [
    {
     "name": "stdout",
     "output_type": "stream",
     "text": [
      "7766016     L\n",
      "7790597     L\n",
      "17383431    L\n",
      "7782409     L\n",
      "14434314    L\n",
      "           ..\n",
      "11067379    L\n",
      "3882998     L\n",
      "19111930    L\n",
      "15679484    L\n",
      "16629757    L\n",
      "Name: hemisphere, Length: 1772, dtype: object\n",
      "18833414    R\n",
      "15564807    R\n",
      "15458316    R\n",
      "11714576    R\n",
      "10133525    R\n",
      "           ..\n",
      "15564782    R\n",
      "12787696    R\n",
      "15589362    R\n",
      "2637812     R\n",
      "15638520    R\n",
      "Name: hemisphere, Length: 1775, dtype: object\n"
     ]
    }
   ],
   "source": [
    "query_af = af.query(\"hemisphere == 'L'\", axis=0).query(\"hemisphere == 'R'\", axis=1)\n",
    "print(query_af.source_nodes[\"hemisphere\"])\n",
    "print(query_af.target_nodes[\"hemisphere\"])"
   ]
  },
  {
   "cell_type": "markdown",
   "id": "9adc4c0b",
   "metadata": {},
   "source": [
    "## Grouping\n",
    "Rather than selecting groups of nodes (like, say, the left hemisphere) one at a time,\n",
    "it is often convenient to subselect the entire network based on some column."
   ]
  },
  {
   "cell_type": "markdown",
   "id": "d79a0cd2",
   "metadata": {},
   "source": [
    "First, let's remove a couple of nodes which are in the center (not on left or right)."
   ]
  },
  {
   "cell_type": "code",
   "execution_count": 13,
   "id": "0653888e",
   "metadata": {},
   "outputs": [],
   "source": [
    "af = af.query(\"hemisphere != 'C'\", axis=\"both\")"
   ]
  },
  {
   "cell_type": "markdown",
   "id": "0dd3b938",
   "metadata": {},
   "source": [
    "Then, let's do a grouping operation."
   ]
  },
  {
   "cell_type": "code",
   "execution_count": 14,
   "id": "dd251c2a",
   "metadata": {},
   "outputs": [
    {
     "data": {
      "text/plain": [
       "<neuropull.graph.base_frame.FrameGroupBy at 0x13d1fc880>"
      ]
     },
     "execution_count": 14,
     "metadata": {},
     "output_type": "execute_result"
    }
   ],
   "source": [
    "groupby = af.groupby(\"hemisphere\", axis=\"both\")\n",
    "groupby"
   ]
  },
  {
   "cell_type": "markdown",
   "id": "bb13efed",
   "metadata": {},
   "source": [
    "Much like in pandas, this returns a GroupBy object, which can be iterated over."
   ]
  },
  {
   "cell_type": "code",
   "execution_count": 15,
   "id": "52a22ebe",
   "metadata": {},
   "outputs": [
    {
     "name": "stdout",
     "output_type": "stream",
     "text": [
      "('L', 'L')\n",
      "AdjacencyFrame with shape: (1772, 1772)\n",
      "Source node features: 58\n",
      "Target node features: 58\n",
      "\n",
      "('L', 'R')\n",
      "AdjacencyFrame with shape: (1772, 1775)\n",
      "Source node features: 58\n",
      "Target node features: 58\n",
      "\n",
      "('R', 'L')\n",
      "AdjacencyFrame with shape: (1775, 1772)\n",
      "Source node features: 58\n",
      "Target node features: 58\n",
      "\n",
      "('R', 'R')\n",
      "AdjacencyFrame with shape: (1775, 1775)\n",
      "Source node features: 58\n",
      "Target node features: 58\n",
      "\n"
     ]
    }
   ],
   "source": [
    "for name, subframe in groupby:\n",
    "    print(name)\n",
    "    print(subframe)"
   ]
  },
  {
   "cell_type": "markdown",
   "id": "b6384cfa",
   "metadata": {},
   "source": [
    "We could, for instance, compute the number of possible edges in each group."
   ]
  },
  {
   "cell_type": "code",
   "execution_count": 16,
   "id": "7fc1cd4b",
   "metadata": {},
   "outputs": [
    {
     "name": "stdout",
     "output_type": "stream",
     "text": [
      "('L', 'L')\n",
      "Possible edges: 3139984\n",
      "\n",
      "('L', 'R')\n",
      "Possible edges: 3145300\n",
      "\n",
      "('R', 'L')\n",
      "Possible edges: 3145300\n",
      "\n",
      "('R', 'R')\n",
      "Possible edges: 3150625\n",
      "\n"
     ]
    }
   ],
   "source": [
    "\n",
    "\n",
    "def possible_edges(frame):\n",
    "    return frame.shape[0] * frame.shape[1]\n",
    "\n",
    "\n",
    "for name, subframe in groupby:\n",
    "    print(name)\n",
    "    print(\"Possible edges:\", possible_edges(subframe))\n",
    "    print()"
   ]
  },
  {
   "cell_type": "markdown",
   "id": "7a963f83",
   "metadata": {},
   "source": [
    "Just like in pandas, since this pattern is so common, we can use the apply function\n",
    "of the FrameGroupBy object to apply a function to each group and collate the results."
   ]
  },
  {
   "cell_type": "code",
   "execution_count": 17,
   "id": "86604d03",
   "metadata": {},
   "outputs": [
    {
     "data": {
      "text/html": [
       "<div>\n",
       "<style scoped>\n",
       "    .dataframe tbody tr th:only-of-type {\n",
       "        vertical-align: middle;\n",
       "    }\n",
       "\n",
       "    .dataframe tbody tr th {\n",
       "        vertical-align: top;\n",
       "    }\n",
       "\n",
       "    .dataframe thead th {\n",
       "        text-align: right;\n",
       "    }\n",
       "</style>\n",
       "<table border=\"1\" class=\"dataframe\">\n",
       "  <thead>\n",
       "    <tr style=\"text-align: right;\">\n",
       "      <th></th>\n",
       "      <th>L</th>\n",
       "      <th>R</th>\n",
       "    </tr>\n",
       "  </thead>\n",
       "  <tbody>\n",
       "    <tr>\n",
       "      <th>L</th>\n",
       "      <td>3139984</td>\n",
       "      <td>3145300</td>\n",
       "    </tr>\n",
       "    <tr>\n",
       "      <th>R</th>\n",
       "      <td>3145300</td>\n",
       "      <td>3150625</td>\n",
       "    </tr>\n",
       "  </tbody>\n",
       "</table>\n",
       "</div>"
      ],
      "text/plain": [
       "         L        R\n",
       "L  3139984  3145300\n",
       "R  3145300  3150625"
      ]
     },
     "execution_count": 17,
     "metadata": {},
     "output_type": "execute_result"
    }
   ],
   "source": [
    "groupby.apply(possible_edges)"
   ]
  },
  {
   "cell_type": "markdown",
   "id": "9f47eb08",
   "metadata": {
    "lines_to_next_cell": 0
   },
   "source": [
    "If we want to use a function which operates on the underlying adjacency matrix only,\n",
    "we can just modify the function slightly."
   ]
  },
  {
   "cell_type": "code",
   "execution_count": 18,
   "id": "5ba9523c",
   "metadata": {},
   "outputs": [
    {
     "data": {
      "text/html": [
       "<div>\n",
       "<style scoped>\n",
       "    .dataframe tbody tr th:only-of-type {\n",
       "        vertical-align: middle;\n",
       "    }\n",
       "\n",
       "    .dataframe tbody tr th {\n",
       "        vertical-align: top;\n",
       "    }\n",
       "\n",
       "    .dataframe thead th {\n",
       "        text-align: right;\n",
       "    }\n",
       "</style>\n",
       "<table border=\"1\" class=\"dataframe\">\n",
       "  <thead>\n",
       "    <tr style=\"text-align: right;\">\n",
       "      <th></th>\n",
       "      <th>L</th>\n",
       "      <th>R</th>\n",
       "    </tr>\n",
       "  </thead>\n",
       "  <tbody>\n",
       "    <tr>\n",
       "      <th>L</th>\n",
       "      <td>123720.0</td>\n",
       "      <td>58409.0</td>\n",
       "    </tr>\n",
       "    <tr>\n",
       "      <th>R</th>\n",
       "      <td>54783.0</td>\n",
       "      <td>136440.0</td>\n",
       "    </tr>\n",
       "  </tbody>\n",
       "</table>\n",
       "</div>"
      ],
      "text/plain": [
       "          L         R\n",
       "L  123720.0   58409.0\n",
       "R   54783.0  136440.0"
      ]
     },
     "execution_count": 18,
     "metadata": {},
     "output_type": "execute_result"
    }
   ],
   "source": [
    "\n",
    "\n",
    "def matrix_sum(frame):\n",
    "    return np.sum(frame.data)\n",
    "\n",
    "\n",
    "groupby.apply(matrix_sum)"
   ]
  },
  {
   "cell_type": "markdown",
   "id": "9dc9d77d",
   "metadata": {},
   "source": [
    "However, shorthand for this is to just pass the `data=True` flag to the `apply` function,\n",
    "and then a function which operates on the adjacency matrix will work."
   ]
  },
  {
   "cell_type": "code",
   "execution_count": 19,
   "id": "0bad30ea",
   "metadata": {},
   "outputs": [
    {
     "data": {
      "text/html": [
       "<div>\n",
       "<style scoped>\n",
       "    .dataframe tbody tr th:only-of-type {\n",
       "        vertical-align: middle;\n",
       "    }\n",
       "\n",
       "    .dataframe tbody tr th {\n",
       "        vertical-align: top;\n",
       "    }\n",
       "\n",
       "    .dataframe thead th {\n",
       "        text-align: right;\n",
       "    }\n",
       "</style>\n",
       "<table border=\"1\" class=\"dataframe\">\n",
       "  <thead>\n",
       "    <tr style=\"text-align: right;\">\n",
       "      <th></th>\n",
       "      <th>L</th>\n",
       "      <th>R</th>\n",
       "    </tr>\n",
       "  </thead>\n",
       "  <tbody>\n",
       "    <tr>\n",
       "      <th>L</th>\n",
       "      <td>123720.0</td>\n",
       "      <td>58409.0</td>\n",
       "    </tr>\n",
       "    <tr>\n",
       "      <th>R</th>\n",
       "      <td>54783.0</td>\n",
       "      <td>136440.0</td>\n",
       "    </tr>\n",
       "  </tbody>\n",
       "</table>\n",
       "</div>"
      ],
      "text/plain": [
       "          L         R\n",
       "L  123720.0   58409.0\n",
       "R   54783.0  136440.0"
      ]
     },
     "execution_count": 19,
     "metadata": {},
     "output_type": "execute_result"
    }
   ],
   "source": [
    "\n",
    "groupby.apply(np.sum, data=True)"
   ]
  },
  {
   "cell_type": "markdown",
   "id": "634f8857",
   "metadata": {
    "lines_to_next_cell": 0
   },
   "source": [
    "Another example is using this to compute the probability of an edge existing between\n",
    "each group."
   ]
  },
  {
   "cell_type": "code",
   "execution_count": 20,
   "id": "44ba4132",
   "metadata": {
    "lines_to_next_cell": 2
   },
   "outputs": [
    {
     "data": {
      "text/html": [
       "<div>\n",
       "<style scoped>\n",
       "    .dataframe tbody tr th:only-of-type {\n",
       "        vertical-align: middle;\n",
       "    }\n",
       "\n",
       "    .dataframe tbody tr th {\n",
       "        vertical-align: top;\n",
       "    }\n",
       "\n",
       "    .dataframe thead th {\n",
       "        text-align: right;\n",
       "    }\n",
       "</style>\n",
       "<table border=\"1\" class=\"dataframe\">\n",
       "  <thead>\n",
       "    <tr style=\"text-align: right;\">\n",
       "      <th></th>\n",
       "      <th>L</th>\n",
       "      <th>R</th>\n",
       "    </tr>\n",
       "  </thead>\n",
       "  <tbody>\n",
       "    <tr>\n",
       "      <th>L</th>\n",
       "      <td>0.01238</td>\n",
       "      <td>0.006056</td>\n",
       "    </tr>\n",
       "    <tr>\n",
       "      <th>R</th>\n",
       "      <td>0.00588</td>\n",
       "      <td>0.013209</td>\n",
       "    </tr>\n",
       "  </tbody>\n",
       "</table>\n",
       "</div>"
      ],
      "text/plain": [
       "         L         R\n",
       "L  0.01238  0.006056\n",
       "R  0.00588  0.013209"
      ]
     },
     "execution_count": 20,
     "metadata": {},
     "output_type": "execute_result"
    }
   ],
   "source": [
    "\n",
    "\n",
    "def density(data):\n",
    "    return np.count_nonzero(data) / data.size\n",
    "\n",
    "\n",
    "groupby.apply(density, data=True)"
   ]
  },
  {
   "cell_type": "code",
   "execution_count": 21,
   "id": "7081867f",
   "metadata": {
    "lines_to_next_cell": 0
   },
   "outputs": [
    {
     "name": "stdout",
     "output_type": "stream",
     "text": [
      "                                                             name  neurons  \\\n",
      "hemisphere pair_id                                                           \n",
      "L          2        BAmas12 contra left; Interneuron--35 in total     True   \n",
      "           3                           DALd bushy left; DALd_l  2     True   \n",
      "           4                                            DALd_l  3     True   \n",
      "           5                                     BU ; DALd 4_left     True   \n",
      "           6                             UNK brain ascending left     True   \n",
      "\n",
      "                    paper_clustered_neurons  left  right  \n",
      "hemisphere pair_id                                        \n",
      "L          2                           True  True  False  \n",
      "           3                           True  True  False  \n",
      "           4                           True  True  False  \n",
      "           5                           True  True  False  \n",
      "           6                           True  True  False  \n"
     ]
    }
   ],
   "source": [
    "pair_counts = af.source_nodes[\"pair_id\"].value_counts()\n",
    "af.source_nodes[\"pair_count\"] = af.source_nodes[\"pair_id\"].map(pair_counts) == 2\n",
    "af.target_nodes[\"pair_count\"] = af.target_nodes[\"pair_id\"].map(pair_counts) == 2\n",
    "pair_af = af.query(\"pair_count\", axis=\"both\")\n",
    "pair_af = pair_af.sort_values([\"hemisphere\", \"pair_id\"], axis=\"both\")\n",
    "pair_af = pair_af.set_index([\"hemisphere\", \"pair_id\"])\n",
    "print(pair_af.source_nodes.iloc[:5, :5])"
   ]
  },
  {
   "cell_type": "code",
   "execution_count": 22,
   "id": "3fdf4844",
   "metadata": {
    "lines_to_next_cell": 0
   },
   "outputs": [
    {
     "name": "stdout",
     "output_type": "stream",
     "text": [
      "                                                  name  neurons  \\\n",
      "pair_id                                                           \n",
      "2        BAmas12 contra left; Interneuron--35 in total     True   \n",
      "3                           DALd bushy left; DALd_l  2     True   \n",
      "4                                            DALd_l  3     True   \n",
      "5                                     BU ; DALd 4_left     True   \n",
      "6                             UNK brain ascending left     True   \n",
      "\n",
      "         paper_clustered_neurons  left  right  \n",
      "pair_id                                        \n",
      "2                           True  True  False  \n",
      "3                           True  True  False  \n",
      "4                           True  True  False  \n",
      "5                           True  True  False  \n",
      "6                           True  True  False  \n"
     ]
    }
   ],
   "source": [
    "print(pair_af.source_nodes.loc[\"L\"].iloc[:5, :5])"
   ]
  },
  {
   "cell_type": "code",
   "execution_count": 23,
   "id": "245a6a5c",
   "metadata": {
    "lines_to_next_cell": 0
   },
   "outputs": [
    {
     "name": "stdout",
     "output_type": "stream",
     "text": [
      "                                      name  neurons  paper_clustered_neurons  \\\n",
      "pair_id                                                                        \n",
      "2                     BAmas12 contra right     True                     True   \n",
      "3        DALd bushy right; DALd_r 5 Review     True                     True   \n",
      "4                  DALd_r 10 10276162 - JL     True                     True   \n",
      "5                        BU ; DALd 4_right     True                     True   \n",
      "6                UNK brain ascending right     True                     True   \n",
      "\n",
      "          left  right  \n",
      "pair_id                \n",
      "2        False   True  \n",
      "3        False   True  \n",
      "4        False   True  \n",
      "5        False   True  \n",
      "6        False   True  \n"
     ]
    }
   ],
   "source": [
    "print(pair_af.source_nodes.loc[\"R\"].iloc[:5, :5])"
   ]
  },
  {
   "cell_type": "code",
   "execution_count": 24,
   "id": "c6a6b68f",
   "metadata": {},
   "outputs": [
    {
     "name": "stdout",
     "output_type": "stream",
     "text": [
      "('L', 'L')\n",
      "AdjacencyFrame with shape: (1634, 1634)\n",
      "Source node features: 57\n",
      "Target node features: 57\n",
      "\n",
      "('L', 'R')\n",
      "AdjacencyFrame with shape: (1634, 1634)\n",
      "Source node features: 57\n",
      "Target node features: 57\n",
      "\n",
      "('R', 'L')\n",
      "AdjacencyFrame with shape: (1634, 1634)\n",
      "Source node features: 57\n",
      "Target node features: 57\n",
      "\n",
      "('R', 'R')\n",
      "AdjacencyFrame with shape: (1634, 1634)\n",
      "Source node features: 57\n",
      "Target node features: 57\n",
      "\n"
     ]
    }
   ],
   "source": [
    "for hemisphere, side_af in pair_af.groupby(\"hemisphere\", axis=\"both\"):\n",
    "    print(hemisphere)\n",
    "    print(side_af)"
   ]
  }
 ],
 "metadata": {
  "jupytext": {
   "cell_metadata_filter": "-all",
   "main_language": "python",
   "notebook_metadata_filter": "-all"
  },
  "kernelspec": {
   "display_name": "Python 3",
   "language": "python",
   "name": "python3"
  },
  "language_info": {
   "codemirror_mode": {
    "name": "ipython",
    "version": 3
   },
   "file_extension": ".py",
   "mimetype": "text/x-python",
   "name": "python",
   "nbconvert_exporter": "python",
   "pygments_lexer": "ipython3",
   "version": "3.9.16"
  },
  "vscode": {
   "interpreter": {
    "hash": "c7294fba8fb7e54e6461ad997ce7565f0c8d94fee85942f9379256aefc5626f1"
   }
  }
 },
 "nbformat": 4,
 "nbformat_minor": 5
}
